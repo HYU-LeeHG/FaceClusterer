{
 "cells": [
  {
   "cell_type": "code",
   "execution_count": 6,
   "metadata": {},
   "outputs": [],
   "source": [
    "import cv2\n",
    "import sys"
   ]
  },
  {
   "cell_type": "code",
   "execution_count": null,
   "metadata": {},
   "outputs": [],
   "source": [
    "VIDEO_FILE_PATH = sys.argv[1]\n",
    "CASCADE_FILE_PATH = sys.argv[2]"
   ]
  },
  {
   "cell_type": "code",
   "execution_count": null,
   "metadata": {},
   "outputs": [],
   "source": [
    "# open video file\n",
    "cap = cv2.VideoCapture(VIDEO_FILE_PATH)"
   ]
  },
  {
   "cell_type": "code",
   "execution_count": null,
   "metadata": {},
   "outputs": [],
   "source": [
    "# check video is open\n",
    "if cap.isOpened() == False:\n",
    "    print('Can\\'t open the video (%d)' % (VIDEO_FILE_PATH))\n",
    "    exit(-1)"
   ]
  },
  {
   "cell_type": "code",
   "execution_count": null,
   "metadata": {},
   "outputs": [],
   "source": [
    "titles = ['orig']\n",
    "\n",
    "# generate window and change size\n",
    "for t in titles:\n",
    "    cv2.namedWindow(t)\n",
    "\n",
    "# file info (width / height / fps)\n",
    "width = cap.get(cv2.CAP_PROP_FRAME_WIDTH)\n",
    "height = cap.get(cv2.CAP_PROP_FRAME_HEIGHT)\n",
    "fps = cap.get(cv2.CAP_PROP_FPS)\n",
    "\n",
    "print('width {0}, height {1}, fps {2}'.format(width, height, fps))\n"
   ]
  },
  {
   "cell_type": "code",
   "execution_count": null,
   "metadata": {},
   "outputs": [],
   "source": [
    "# for recongnizing faces\n",
    "face_cascade = cv2.CascadeClassifier()\n",
    "face_cascade.load(CASCADE_FILE_PATH)"
   ]
  },
  {
   "cell_type": "code",
   "execution_count": null,
   "metadata": {},
   "outputs": [],
   "source": [
    "count = 0\n",
    "\n",
    "while (True) :\n",
    "    # get image from file\n",
    "    ret, frame = cap.read()\n",
    "    if frame is None :\n",
    "        break\n",
    "    # video processing\n",
    "    grayframe = cv2.cvtColor(frame, cv2.COLOR_BGR2GRAY)\n",
    "    blur = cv2.GaussianBlur(grayframe, (5, 5), 0)\n",
    "    faces = face_cascade.detectMultiScale(blur, 1.8, 2, 0, (50, 50))\n",
    "    #     faces = faceCascade.detectMultiScale(\n",
    "    #     gray,\n",
    "    #     scaleFactor=1.1,\n",
    "    #     minNeighbors=5,\n",
    "    #     minSize=(30, 30),\n",
    "    #     flags = cv2.cv.CV_HAAR_SCALE_IMAGE\n",
    "    #     )\n",
    "\n",
    "    # showing recognized face\n",
    "    for (x, y, w, h) in faces :\n",
    "        cx = int(x + (w / 2))\n",
    "        cy = int(y + (h / 2))\n",
    "        cr = int(w / 2)\n",
    "        #img_trim = img[y:y + h, x:x + w]\n",
    "        img = frame[cy - int(w / 2) : cy + int(w / 2), cx - int(h / 2) : cx + int(h / 2)]\n",
    "        #cv2.circle(frame, (cx, cy), cr, (0, 255, 0), 3)\n",
    "        cv2.imwrite(\"./data/image/\" + str(count) + \".jpg\", img)\n",
    "        count = count + 1\n",
    "\n",
    "    # show image with recognized face\n",
    "    # cv2.imshow(titles[0], frame)\n",
    "\n",
    "    # save to image\n",
    "    # cv2.imwrite(\"./data/image/\"+str(count)+\".jpg\", frame)\n",
    "\n",
    "    if cv2.waitKey(1) == 27:\n",
    "        break"
   ]
  },
  {
   "cell_type": "code",
   "execution_count": null,
   "metadata": {},
   "outputs": [],
   "source": [
    "cap.release()\n",
    "cv2.destroyAllWindows()"
   ]
  },
  {
   "cell_type": "code",
   "execution_count": 1,
   "metadata": {},
   "outputs": [],
   "source": [
    "from os import listdir\n",
    "from os.path import isfile, join\n",
    "\n",
    "IMAGE_PATH = './data/image/'\n",
    "image_list = [f for f in listdir(IMAGE_PATH) if isfile(join(IMAGE_PATH, f))]"
   ]
  },
  {
   "cell_type": "code",
   "execution_count": 5,
   "metadata": {},
   "outputs": [
    {
     "ename": "NameError",
     "evalue": "name 'cv2' is not defined",
     "output_type": "error",
     "traceback": [
      "\u001b[0;31m---------------------------------------------------------------------------\u001b[0m",
      "\u001b[0;31mNameError\u001b[0m                                 Traceback (most recent call last)",
      "\u001b[0;32m<ipython-input-5-534bb9b76673>\u001b[0m in \u001b[0;36m<module>\u001b[0;34m()\u001b[0m\n\u001b[1;32m      1\u001b[0m \u001b[0;32mfor\u001b[0m \u001b[0mi\u001b[0m \u001b[0;32min\u001b[0m \u001b[0mimage_list\u001b[0m \u001b[0;34m:\u001b[0m\u001b[0;34m\u001b[0m\u001b[0m\n\u001b[0;32m----> 2\u001b[0;31m     \u001b[0mimage\u001b[0m \u001b[0;34m=\u001b[0m \u001b[0mcv2\u001b[0m\u001b[0;34m.\u001b[0m\u001b[0mimread\u001b[0m\u001b[0;34m(\u001b[0m\u001b[0mjoin\u001b[0m\u001b[0;34m(\u001b[0m\u001b[0mIMAGE_PATH\u001b[0m\u001b[0;34m,\u001b[0m \u001b[0mi\u001b[0m\u001b[0;34m)\u001b[0m\u001b[0;34m)\u001b[0m\u001b[0;34m\u001b[0m\u001b[0m\n\u001b[0m",
      "\u001b[0;31mNameError\u001b[0m: name 'cv2' is not defined"
     ]
    }
   ],
   "source": [
    "for i in image_list :\n",
    "    image = cv2.imread(join(IMAGE_PATH, i))\n",
    "    gray = cv2.cvtColor(image, cv2.COLOR_BGR2GRAY)"
   ]
  },
  {
   "cell_type": "code",
   "execution_count": null,
   "metadata": {},
   "outputs": [],
   "source": []
  }
 ],
 "metadata": {
  "kernelspec": {
   "display_name": "Python 3",
   "language": "python",
   "name": "python3"
  },
  "language_info": {
   "codemirror_mode": {
    "name": "ipython",
    "version": 3
   },
   "file_extension": ".py",
   "mimetype": "text/x-python",
   "name": "python",
   "nbconvert_exporter": "python",
   "pygments_lexer": "ipython3",
   "version": "3.6.3"
  }
 },
 "nbformat": 4,
 "nbformat_minor": 1
}
