{
  "nbformat": 4,
  "nbformat_minor": 0,
  "metadata": {
    "colab": {
      "name": "FaceClustering.ipynb",
      "version": "0.3.2",
      "provenance": [],
      "collapsed_sections": []
    },
    "kernelspec": {
      "name": "python3",
      "display_name": "Python 3"
    }
  },
  "cells": [
    {
      "metadata": {
        "id": "5Zc8cvDNpt_K",
        "colab_type": "text"
      },
      "cell_type": "markdown",
      "source": [
        "Load Video\n",
        "\n",
        "1.   Load from Google Drive in Colab\n",
        "2.   Make directory\n",
        "\n"
      ]
    },
    {
      "metadata": {
        "id": "S-2OTT6_rJiK",
        "colab_type": "code",
        "colab": {
          "base_uri": "https://localhost:8080/",
          "height": 225
        },
        "outputId": "ce4418fa-88a2-4199-b8b8-ee96eabd2ec2"
      },
      "cell_type": "code",
      "source": [
        "# Google Colab import files in google drive\n",
        "!apt-get install -y -qq software-properties-common python-software-properties module-init-tools\n",
        "!add-apt-repository -y ppa:alessandro-strada/ppa 2>&1 > /dev/null\n",
        "!apt-get update -qq 2>&1 > /dev/null\n",
        "!apt-get -y install -qq google-drive-ocamlfuse fuse\n",
        "\n",
        "from google.colab import auth\n",
        "auth.authenticate_user()\n",
        "\n",
        "from oauth2client.client import GoogleCredentials\n",
        "creds = GoogleCredentials.get_application_default()\n",
        "\n",
        "import getpass\n",
        "!google-drive-ocamlfuse -headless -id={creds.client_id} -secret={creds.client_secret} < /dev/null 2>&1 | grep URL\n",
        "vcode = getpass.getpass()\n",
        "!echo {vcode} | google-drive-ocamlfuse -headless -id={creds.client_id} -secret={creds.client_secret}\n",
        "!mkdir -p drive\n",
        "!google-drive-ocamlfuse drive\n",
        "!cd drive; ls; "
      ],
      "execution_count": 12,
      "outputs": [
        {
          "output_type": "stream",
          "text": [
            "gpg: keybox '/tmp/tmp8n1lt_le/pubring.gpg' created\n",
            "gpg: /tmp/tmp8n1lt_le/trustdb.gpg: trustdb created\n",
            "gpg: key AD5F235DF639B041: public key \"Launchpad PPA for Alessandro Strada\" imported\n",
            "gpg: Total number processed: 1\n",
            "gpg:               imported: 1\n",
            "Warning: apt-key output should not be parsed (stdout is not a terminal)\n",
            "··········\n",
            "fuse: mountpoint is not empty\n",
            "fuse: if you are sure this is safe, use the 'nonempty' mount option\n",
            "4월 27일 JUNO 한강 스터디.zip  Cropped_imgs    웹크롤러 추가 기능 제안서.ods\n",
            "ColabNotebooks\t\t       FaceClustering  학점시발.ods\n",
            "Colab Notebooks\t\t       new_file.txt    Windows10\n"
          ],
          "name": "stdout"
        }
      ]
    },
    {
      "metadata": {
        "id": "l0EbfMkai7Y6",
        "colab_type": "code",
        "colab": {
          "base_uri": "https://localhost:8080/",
          "height": 35
        },
        "outputId": "2c6927e0-4531-4b91-9c1a-28f292a316de"
      },
      "cell_type": "code",
      "source": [
        "!pip install tqdm\n",
        "from tqdm import tqdm\n",
        "import cv2 as cv\n",
        "import numpy as np\n",
        "import os\n",
        "import datetime\n",
        "from matplotlib import pyplot as plt\n",
        "SEARCH_FRAME = []"
      ],
      "execution_count": 36,
      "outputs": [
        {
          "output_type": "stream",
          "text": [
            "Requirement already satisfied: tqdm in /usr/local/lib/python3.6/dist-packages (4.25.0)\r\n"
          ],
          "name": "stdout"
        }
      ]
    },
    {
      "metadata": {
        "id": "CRSKqCJIqh8k",
        "colab_type": "code",
        "colab": {}
      },
      "cell_type": "code",
      "source": [
        "VIDEO_DIR = 'drive/FaceClustering/'\n",
        "VIDEO_FILE_NAME = 'WINNER_EVERYDAY.mp4'\n",
        "PROGRAM_START_TIME = datetime.datetime.now().strftime('%Y%m%d_%H-%M-%S')\n",
        "SAVE_CROPPED_FACE_DIR = 'drive/Cropped_imgs/' + PROGRAM_START_TIME + '-' + VIDEO_FILE_NAME.split('.')[0]\n",
        "CASCADE_DIR = 'drive/FaceClustering/lbpcascade_frontalface_improved.xml'"
      ],
      "execution_count": 0,
      "outputs": []
    },
    {
      "metadata": {
        "id": "AUU1he7ZwRQC",
        "colab_type": "code",
        "colab": {}
      },
      "cell_type": "code",
      "source": [
        "\n",
        "def make_directory(_directory_name):\n",
        "    if not os.path.exists(_directory_name):\n",
        "        os.makedirs(_directory_name)\n",
        "\n",
        "def get_area_of_frame_face_recognition(img, face_cascade):\n",
        "    grayed_img = cv.cvtColor(img, cv.COLOR_BGR2GRAY)\n",
        "    # def detectMultiScale(self, image, scaleFactor=None, minNeighbors=None, flags=None, minSize=None, maxSize=None)\n",
        "    face_area = face_cascade.detectMultiScale(image=grayed_img,scaleFactor=1.3,minNeighbors=5)\n",
        "    return face_area\n",
        "  \n",
        "def get_frame(video_capture, frame):\n",
        "    SEARCH_FRAME.append(frame)\n",
        "    video_capture.set(cv.CAP_PROP_POS_FRAMES, frame)\n",
        "    ret, img = video_capture.read()\n",
        "    fps = video_capture.get(cv.CAP_PROP_FPS)\n",
        "    return img, frame / fps, ret\n",
        "\n",
        "def save_cropped_img(img, faces, sec):\n",
        "    if len(faces) != 0:\n",
        "        i = 0\n",
        "        for (x, y, w, h) in faces:\n",
        "            cv.imwrite(SAVE_CROPPED_FACE_DIR + \"/\" + str(sec).replace('.','_') + \"_\" + str(i) + \".jpg\", img[y:y + h, x: x + w])\n",
        "            i += 1\n",
        "    if cv.waitKey(1) & 0xFF == ord('q'):\n",
        "        return False\n",
        "    else:\n",
        "        return True"
      ],
      "execution_count": 0,
      "outputs": []
    },
    {
      "metadata": {
        "id": "F90yiqWvrcMq",
        "colab_type": "code",
        "colab": {
          "base_uri": "https://localhost:8080/",
          "height": 35
        },
        "outputId": "8a329cfa-a500-420e-f318-2cfc9c2fe255"
      },
      "cell_type": "code",
      "source": [
        "make_directory(SAVE_CROPPED_FACE_DIR)\n",
        "m_video_capture = cv.VideoCapture(VIDEO_DIR + VIDEO_FILE_NAME)\n",
        "m_face_cascade = cv.CascadeClassifier(CASCADE_DIR)\n",
        "TOTAL_FRAME = m_video_capture.get(cv.CAP_PROP_FRAME_COUNT)\n",
        "FRAME_STEP = 100\n",
        "LOAD_FAIL = []\n",
        "for frame in tqdm(range(0, int(TOTAL_FRAME), FRAME_STEP)):\n",
        "    img, sec, ret = get_frame(video_capture=m_video_capture, frame=frame)\n",
        "    ALL.append(sec)\n",
        "    if not ret:\n",
        "        LOAD_FAIL.append(sec)\n",
        "        continue\n",
        "    faces_area = get_area_of_frame_face_recognition(img=img, face_cascade=m_face_cascade)\n",
        "    save_cropped_img(img, faces_area, sec)"
      ],
      "execution_count": 41,
      "outputs": [
        {
          "output_type": "stream",
          "text": [
            "100%|██████████| 52/52 [00:20<00:00,  2.48it/s]\n"
          ],
          "name": "stderr"
        }
      ]
    },
    {
      "metadata": {
        "id": "5_-2J9ursRan",
        "colab_type": "code",
        "colab": {
          "base_uri": "https://localhost:8080/",
          "height": 953
        },
        "outputId": "1560d73e-1375-42e0-b117-9cb6e86030d1"
      },
      "cell_type": "code",
      "source": [
        "TOTAL_FRAME, LOAD_FAIL, SEARCH_FRAME"
      ],
      "execution_count": 42,
      "outputs": [
        {
          "output_type": "execute_result",
          "data": {
            "text/plain": [
              "(5136.0,\n",
              " [],\n",
              " [0,\n",
              "  100,\n",
              "  200,\n",
              "  300,\n",
              "  400,\n",
              "  500,\n",
              "  600,\n",
              "  700,\n",
              "  800,\n",
              "  900,\n",
              "  1000,\n",
              "  1100,\n",
              "  1200,\n",
              "  1300,\n",
              "  1400,\n",
              "  1500,\n",
              "  1600,\n",
              "  1700,\n",
              "  1800,\n",
              "  1900,\n",
              "  2000,\n",
              "  2100,\n",
              "  2200,\n",
              "  2300,\n",
              "  2400,\n",
              "  2500,\n",
              "  2600,\n",
              "  2700,\n",
              "  2800,\n",
              "  2900,\n",
              "  3000,\n",
              "  3100,\n",
              "  3200,\n",
              "  3300,\n",
              "  3400,\n",
              "  3500,\n",
              "  3600,\n",
              "  3700,\n",
              "  3800,\n",
              "  3900,\n",
              "  4000,\n",
              "  4100,\n",
              "  4200,\n",
              "  4300,\n",
              "  4400,\n",
              "  4500,\n",
              "  4600,\n",
              "  4700,\n",
              "  4800,\n",
              "  4900,\n",
              "  5000,\n",
              "  5100])"
            ]
          },
          "metadata": {
            "tags": []
          },
          "execution_count": 42
        }
      ]
    },
    {
      "metadata": {
        "id": "yNMH9v77whHX",
        "colab_type": "code",
        "colab": {
          "base_uri": "https://localhost:8080/",
          "height": 35
        },
        "outputId": "0d48c912-94d7-482d-e0d3-cf174fb2c254"
      },
      "cell_type": "code",
      "source": [
        "TOTAL_FRAME / m_video_capture.get(cv.CAP_PROP_FPS)"
      ],
      "execution_count": 43,
      "outputs": [
        {
          "output_type": "execute_result",
          "data": {
            "text/plain": [
              "214.214"
            ]
          },
          "metadata": {
            "tags": []
          },
          "execution_count": 43
        }
      ]
    },
    {
      "metadata": {
        "id": "WHUxOSTyyYnb",
        "colab_type": "code",
        "colab": {}
      },
      "cell_type": "code",
      "source": [
        ""
      ],
      "execution_count": 0,
      "outputs": []
    }
  ]
}